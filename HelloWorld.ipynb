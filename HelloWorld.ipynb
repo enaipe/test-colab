{
  "nbformat": 4,
  "nbformat_minor": 0,
  "metadata": {
    "colab": {
      "name": "HelloWorld.ipynb",
      "provenance": [],
      "collapsed_sections": [],
      "toc_visible": true,
      "authorship_tag": "ABX9TyOQ5e1UPGjXXOomA5x7Bt8q",
      "include_colab_link": true
    },
    "kernelspec": {
      "name": "python3",
      "display_name": "Python 3"
    },
    "language_info": {
      "name": "python"
    }
  },
  "cells": [
    {
      "cell_type": "markdown",
      "metadata": {
        "id": "view-in-github",
        "colab_type": "text"
      },
      "source": [
        "<a href=\"https://colab.research.google.com/github/enaipe/test-colab/blob/main/HelloWorld.ipynb\" target=\"_parent\"><img src=\"https://colab.research.google.com/assets/colab-badge.svg\" alt=\"Open In Colab\"/></a>"
      ]
    },
    {
      "cell_type": "markdown",
      "metadata": {
        "id": "vhaMSrwA22Za"
      },
      "source": [
        "![Python](http://1000marcas.net/wp-content/uploads/2020/11/Python-logo.png)."
      ]
    },
    {
      "cell_type": "markdown",
      "metadata": {
        "id": "tRQIKGoIippC"
      },
      "source": [
        "### WELCOME TO PYTHON\n",
        "> __PHYTON__\n",
        ">>> *PHYTON* \n",
        "```\n",
        "MTI. JUAN PEREZ MORALES\n",
        "```"
      ]
    },
    {
      "cell_type": "code",
      "metadata": {
        "colab": {
          "base_uri": "https://localhost:8080/"
        },
        "id": "BI8gllO0Ks8a",
        "outputId": "357fe211-9c4b-4a3e-a867-f912b4e83dd2"
      },
      "source": [
        "print(\"Hola Mundo\")"
      ],
      "execution_count": 3,
      "outputs": [
        {
          "output_type": "stream",
          "text": [
            "Hola Mundo\n"
          ],
          "name": "stdout"
        }
      ]
    }
  ]
}